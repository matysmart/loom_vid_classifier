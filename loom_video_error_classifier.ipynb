{
  "nbformat": 4,
  "nbformat_minor": 0,
  "metadata": {
    "colab": {
      "provenance": [],
      "gpuType": "T4"
    },
    "kernelspec": {
      "name": "python3",
      "display_name": "Python 3"
    },
    "language_info": {
      "name": "python"
    },
    "accelerator": "GPU"
  },
  "cells": [
    {
      "cell_type": "code",
      "source": [
        "# Transformers installation\n",
        "!pip install transformers datasets --quiet\n",
        "!pip install pytorchvideo --quiet\n",
        "!pip install torch==1.11.0 torchvision==0.12.0 torchaudio==0.11.0 --quiet\n",
        "!pip install evaluate --quiet"
      ],
      "metadata": {
        "colab": {
          "base_uri": "https://localhost:8080/"
        },
        "id": "bNzqA7E3HGrF",
        "outputId": "1ceec215-c76e-4669-aba6-c0c698e62227"
      },
      "execution_count": null,
      "outputs": [
        {
          "output_type": "stream",
          "name": "stdout",
          "text": [
            "\u001b[2K   \u001b[90m━━━━━━━━━━━━━━━━━━━━━━━━━━━━━━━━━━━━━━━━\u001b[0m \u001b[32m750.6/750.6 MB\u001b[0m \u001b[31m2.5 MB/s\u001b[0m eta \u001b[36m0:00:00\u001b[0m\n",
            "\u001b[2K   \u001b[90m━━━━━━━━━━━━━━━━━━━━━━━━━━━━━━━━━━━━━━━━\u001b[0m \u001b[32m21.0/21.0 MB\u001b[0m \u001b[31m59.5 MB/s\u001b[0m eta \u001b[36m0:00:00\u001b[0m\n",
            "\u001b[2K   \u001b[90m━━━━━━━━━━━━━━━━━━━━━━━━━━━━━━━━━━━━━━━━\u001b[0m \u001b[32m2.9/2.9 MB\u001b[0m \u001b[31m66.4 MB/s\u001b[0m eta \u001b[36m0:00:00\u001b[0m\n",
            "\u001b[?25h"
          ]
        }
      ]
    },
    {
      "cell_type": "code",
      "source": [
        "import argparse\n",
        "import json\n",
        "import urllib.request\n",
        "from moviepy.video.io.VideoFileClip import VideoFileClip\n",
        "import os\n",
        "import pandas as pd\n",
        "from huggingface_hub import notebook_login, login\n",
        "from openpyxl import load_workbook\n",
        "from openpyxl.styles import PatternFill\n",
        "\n",
        "notebook_login() # You need write access in huggingface"
      ],
      "metadata": {
        "id": "KCR3zwTuG8It"
      },
      "execution_count": null,
      "outputs": []
    },
    {
      "cell_type": "code",
      "execution_count": null,
      "metadata": {
        "id": "NZtbfxYXGly7"
      },
      "outputs": [],
      "source": [
        "from transformers import pipeline\n",
        "\n",
        "video_cls = pipeline(model=\"markytools/videomae-base-finetuned-ucf101-subset\", device=\"cuda\")"
      ]
    },
    {
      "cell_type": "code",
      "source": [
        "def fetch_loom_download_url(id):\n",
        "    request = urllib.request.Request(\n",
        "        url=f\"https://www.loom.com/api/campaigns/sessions/{id}/transcoded-url\",\n",
        "        headers={},\n",
        "        method=\"POST\",\n",
        "    )\n",
        "    response = urllib.request.urlopen(request)\n",
        "    body = response.read()\n",
        "    content = json.loads(body.decode(\"utf-8\"))\n",
        "    url = content[\"url\"]\n",
        "    return url\n",
        "\n",
        "\n",
        "def download_loom_video(url, filename):\n",
        "    urllib.request.urlretrieve(url, filename)\n",
        "\n",
        "\n",
        "def trim_video(input_file, output_file, start_time=1):\n",
        "    with VideoFileClip(input_file) as video:\n",
        "        trimmed_video = video.subclip(0, start_time)  # Trim the first 1 second\n",
        "        trimmed_video.write_videofile(output_file, codec=\"mpeg4\")\n",
        "\n",
        "\n",
        "def parse_arguments():\n",
        "    parser = argparse.ArgumentParser(\n",
        "        prog=\"loom-dl\", description=\"script to download loom.com videos\"\n",
        "    )\n",
        "    parser.add_argument(\n",
        "        \"url\", help=\"Url of the video in the format https://www.loom.com/share/[ID]\"\n",
        "    )\n",
        "    parser.add_argument(\"-o\", \"--out\", help=\"Path to output the file to\")\n",
        "    arguments = parser.parse_args()\n",
        "    return arguments\n",
        "\n",
        "\n",
        "def extract_id(url):\n",
        "    return url.split(\"/\")[-1]\n",
        "\n",
        "def delete_file_if_exists(file_path):\n",
        "    if os.path.isfile(file_path):\n",
        "        os.remove(file_path)\n",
        "\n",
        "def download_loom_video_to_file(url_str, trimmed_filename):\n",
        "    # url_str = \"https://www.loom.com/share/fb8f4b80277249a681087be933bf546c\"\n",
        "    id = extract_id(url_str)\n",
        "\n",
        "    url = fetch_loom_download_url(id)\n",
        "    filename = f\"{id}.mp4\"\n",
        "    print(f\"Loading video {id}\")\n",
        "    download_loom_video(url, filename)\n",
        "    trim_video(filename, trimmed_filename)\n",
        "\n",
        "    # Example usage\n",
        "    delete_file_if_exists(filename)\n",
        "\n",
        "# Function to color the cell red\n",
        "def color_cell_red(sheet, row, col):\n",
        "    red_fill = PatternFill(start_color=\"FF0000\", end_color=\"FF0000\", fill_type=\"solid\")\n",
        "    sheet.cell(row=row, column=col).fill = red_fill\n",
        "\n",
        "# Function to remove the query part from the URL\n",
        "def remove_query_from_url(url):\n",
        "    return url.split('?')[0]"
      ],
      "metadata": {
        "id": "ZFVejVfzGsm3"
      },
      "execution_count": null,
      "outputs": []
    },
    {
      "cell_type": "code",
      "source": [
        "# Read the Excel file\n",
        "excel_file_path = '/content/linksTestOnly.xlsx'\n",
        "df = pd.read_excel(excel_file_path)\n",
        "df['video'] = df['video'].apply(remove_query_from_url)\n",
        "\n",
        "# Iterate over each row in the dataframe\n",
        "for index, row in df.iterrows():\n",
        "    url = row['video']\n",
        "\n",
        "    filename = \"temp_vid.avi\"\n",
        "    # Call the download function\n",
        "    download_loom_video_to_file(url_str=url, trimmed_filename=filename)\n",
        "    output_pred = video_cls(filename)\n",
        "\n",
        "    # Find the dictionary with the highest score\n",
        "    highest_score_pred = max(output_pred, key=lambda x: x['score'])\n",
        "    label = highest_score_pred['label']\n",
        "\n",
        "    # Load the workbook and active sheet\n",
        "    workbook = load_workbook(excel_file_path)\n",
        "    sheet = workbook.active\n",
        "\n",
        "    # If the label is \"bad\", color the cell red\n",
        "    if label == \"bad\":\n",
        "        color_cell_red(sheet, index + 2, 1)  # +2 because Excel rows start at 1, header row considered\n",
        "\n",
        "    # Save the workbook after processing each video\n",
        "    workbook.save(excel_file_path)"
      ],
      "metadata": {
        "id": "ZhPMSXT7KCSP"
      },
      "execution_count": null,
      "outputs": []
    },
    {
      "cell_type": "code",
      "source": [],
      "metadata": {
        "id": "wFvGgZqygYAP"
      },
      "execution_count": null,
      "outputs": []
    },
    {
      "cell_type": "code",
      "source": [],
      "metadata": {
        "id": "-eeAwRJrL0KQ"
      },
      "execution_count": null,
      "outputs": []
    }
  ]
}